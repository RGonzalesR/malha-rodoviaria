{
 "cells": [
  {
   "cell_type": "code",
   "execution_count": 1,
   "metadata": {},
   "outputs": [],
   "source": [
    "import sys\n",
    "import os\n",
    "sys.path.append(os.path.abspath('..'))"
   ]
  },
  {
   "cell_type": "code",
   "execution_count": 2,
   "metadata": {},
   "outputs": [
    {
     "name": "stderr",
     "output_type": "stream",
     "text": [
      "/home/renan_gonzales/.local/lib/python3.8/site-packages/pandas/core/computation/expressions.py:20: UserWarning: Pandas requires version '2.7.3' or newer of 'numexpr' (version '2.7.1' currently installed).\n",
      "  from pandas.core.computation.check import NUMEXPR_INSTALLED\n"
     ]
    }
   ],
   "source": [
    "import networkx as nx\n",
    "import matplotlib.pyplot as plt\n",
    "import numpy as np\n",
    "\n",
    "from src.basic.load_network import load_mtx, load_graph_from_place\n",
    "from src.metrics.search_information import average_search_information\n",
    "from src.metrics.loops import count_triangles, count_squares\n",
    "from src.plot.loops_plot import plot_loops\n",
    "from src.plot.degree_distribution import plot_degree_distribution\n",
    "from src.plot.graph_plot import graph_plot"
   ]
  },
  {
   "cell_type": "markdown",
   "metadata": {},
   "source": [
    "# Carga"
   ]
  },
  {
   "cell_type": "markdown",
   "metadata": {},
   "source": [
    "Escolhas:\n",
    " - Boa Vista (RR): 400.000 habitantes\n",
    " - Bauru (SP): 380.000\n",
    " - Maringá (PR): 409.000\n",
    " - Campina Grande (PB): 420.000"
   ]
  },
  {
   "cell_type": "code",
   "execution_count": 3,
   "metadata": {},
   "outputs": [],
   "source": [
    "graph_dict = dict()"
   ]
  },
  {
   "cell_type": "code",
   "execution_count": 4,
   "metadata": {},
   "outputs": [
    {
     "name": "stdout",
     "output_type": "stream",
     "text": [
      "Grafo carregado: 10680 nós e 17697 arestas. Densidade: 0.00031\n"
     ]
    }
   ],
   "source": [
    "cidade = \"Boa Vista, Roraima, Brazil\"\n",
    "G_BV = load_graph_from_place(cidade)\n",
    "print(f\"Grafo carregado: {G_BV.number_of_nodes()} nós e {G_BV.number_of_edges()} arestas. Densidade: {nx.density(G_BV):.5f}\")\n",
    "graph_dict[cidade.split(\",\")[0]] = G_BV"
   ]
  },
  {
   "cell_type": "code",
   "execution_count": 5,
   "metadata": {},
   "outputs": [
    {
     "name": "stdout",
     "output_type": "stream",
     "text": [
      "Grafo carregado: 12174 nós e 19589 arestas. Densidade: 0.00026\n"
     ]
    }
   ],
   "source": [
    "cidade = \"Bauru, São Paulo, Brazil\"\n",
    "G_BAU = load_graph_from_place(cidade)\n",
    "print(f\"Grafo carregado: {G_BAU.number_of_nodes()} nós e {G_BAU.number_of_edges()} arestas. Densidade: {nx.density(G_BAU):.5f}\")\n",
    "graph_dict[cidade.split(\",\")[0]] = G_BAU"
   ]
  },
  {
   "cell_type": "code",
   "execution_count": 6,
   "metadata": {},
   "outputs": [
    {
     "name": "stdout",
     "output_type": "stream",
     "text": [
      "Grafo carregado: 11508 nós e 18331 arestas. Densidade: 0.00028\n"
     ]
    }
   ],
   "source": [
    "cidade = \"Maringá, Paraná, Brazil\"\n",
    "G_MAR = load_graph_from_place(cidade)\n",
    "print(f\"Grafo carregado: {G_MAR.number_of_nodes()} nós e {G_MAR.number_of_edges()} arestas. Densidade: {nx.density(G_MAR):.5f}\")\n",
    "graph_dict[cidade.split(\",\")[0]] = G_MAR"
   ]
  },
  {
   "cell_type": "code",
   "execution_count": 7,
   "metadata": {},
   "outputs": [
    {
     "name": "stdout",
     "output_type": "stream",
     "text": [
      "Grafo carregado: 12639 nós e 18674 arestas. Densidade: 0.00023\n"
     ]
    }
   ],
   "source": [
    "cidade = \"Campina Grande, Paraíba, Brazil\"\n",
    "G_CG = load_graph_from_place(cidade)\n",
    "print(f\"Grafo carregado: {G_CG.number_of_nodes()} nós e {G_CG.number_of_edges()} arestas. Densidade: {nx.density(G_CG):.5f}\")\n",
    "graph_dict[cidade.split(\",\")[0]] = G_CG"
   ]
  },
  {
   "cell_type": "code",
   "execution_count": 8,
   "metadata": {},
   "outputs": [
    {
     "data": {
      "text/plain": [
       "{'Boa Vista': <networkx.classes.graph.Graph at 0x7f4f63391fa0>,\n",
       " 'Bauru': <networkx.classes.graph.Graph at 0x7f4f87d74cd0>,\n",
       " 'Maringá': <networkx.classes.graph.Graph at 0x7f4f723c2730>,\n",
       " 'Campina Grande': <networkx.classes.graph.Graph at 0x7f4f87b10130>}"
      ]
     },
     "execution_count": 8,
     "metadata": {},
     "output_type": "execute_result"
    }
   ],
   "source": [
    "graph_dict"
   ]
  },
  {
   "cell_type": "markdown",
   "metadata": {},
   "source": [
    "# Exploratória inicial"
   ]
  },
  {
   "cell_type": "code",
   "execution_count": 9,
   "metadata": {},
   "outputs": [
    {
     "name": "stdout",
     "output_type": "stream",
     "text": [
      "Análise de Boa Vista:\n",
      "    1. Número de componentes conexos: 1\n",
      "    2. Tamanho do maior componente conexo: 10680 nós\n",
      "Análise de Bauru:\n",
      "    1. Número de componentes conexos: 1\n",
      "    2. Tamanho do maior componente conexo: 12174 nós\n",
      "Análise de Maringá:\n",
      "    1. Número de componentes conexos: 1\n",
      "    2. Tamanho do maior componente conexo: 11508 nós\n",
      "Análise de Campina Grande:\n",
      "    1. Número de componentes conexos: 1\n",
      "    2. Tamanho do maior componente conexo: 12639 nós\n"
     ]
    }
   ],
   "source": [
    "for city in graph_dict:\n",
    "    G = graph_dict[city]\n",
    "    components = list(nx.connected_components(G))\n",
    "    largest_component = max(components, key=len)\n",
    "    G_largest = G.subgraph(largest_component).copy()\n",
    "\n",
    "    print(f\"Análise de {city}:\")\n",
    "    print(f\"    1. Número de componentes conexos: {len(components)}\")\n",
    "    print(f\"    2. Tamanho do maior componente conexo: {G_largest.number_of_nodes()} nós\")"
   ]
  },
  {
   "cell_type": "code",
   "execution_count": 42,
   "metadata": {},
   "outputs": [
    {
     "name": "stdout",
     "output_type": "stream",
     "text": [
      "Análise de Boa Vista:\n",
      "    1. Grau mínimo: 1\n",
      "    2. Grau máximo: 5\n",
      "    3. Grau médio: 3.31\n",
      "    4. Grau mediano: 3.0\n",
      "Análise de Bauru:\n",
      "    1. Grau mínimo: 1\n",
      "    2. Grau máximo: 6\n",
      "    3. Grau médio: 3.22\n",
      "    4. Grau mediano: 3.0\n",
      "Análise de Maringá:\n",
      "    1. Grau mínimo: 1\n",
      "    2. Grau máximo: 6\n",
      "    3. Grau médio: 3.19\n",
      "    4. Grau mediano: 3.0\n",
      "Análise de Campina Grande:\n",
      "    1. Grau mínimo: 1\n",
      "    2. Grau máximo: 5\n",
      "    3. Grau médio: 2.95\n",
      "    4. Grau mediano: 3.0\n"
     ]
    },
    {
     "data": {
      "image/png": "[encoded data removed]",
      "text/plain": [
       "<Figure size 640x480 with 1 Axes>"
      ]
     },
     "metadata": {},
     "output_type": "display_data"
    }
   ],
   "source": [
    "lines = list()\n",
    "labels = list()\n",
    "\n",
    "for city in graph_dict:\n",
    "    G = graph_dict[city]\n",
    "    print(f\"Análise de {city}:\")\n",
    "\n",
    "    degrees = [d for n, d in G.degree()]\n",
    "    print(f\"    1. Grau mínimo: {np.min(degrees)}\")\n",
    "    print(f\"    2. Grau máximo: {np.max(degrees)}\")\n",
    "    print(f\"    3. Grau médio: {np.mean(degrees):.2f}\")\n",
    "    print(f\"    4. Grau mediano: {np.median(degrees)}\")\n",
    "\n",
    "    plot_degree_distribution(G)\n",
    "\n",
    "    line = plt.gca().lines[-1]\n",
    "    lines.append(line)\n",
    "    labels.append(city)\n",
    "\n",
    "plt.legend(lines, labels, title='Cidade')\n",
    "plt.tight_layout()\n",
    "plt.show()"
   ]
  },
  {
   "cell_type": "code",
   "execution_count": 45,
   "metadata": {},
   "outputs": [
    {
     "name": "stdout",
     "output_type": "stream",
     "text": [
      "Análise de Boa Vista:\n",
      "    1. Diâmetro do maior componente: 158\n",
      "    2. Distância média: 54.44\n",
      "Análise de Bauru:\n",
      "    1. Diâmetro do maior componente: 100\n",
      "    2. Distância média: 42.80\n",
      "Análise de Maringá:\n",
      "    1. Diâmetro do maior componente: 99\n",
      "    2. Distância média: 45.39\n",
      "Análise de Campina Grande:\n",
      "    1. Diâmetro do maior componente: 161\n",
      "    2. Distância média: 58.81\n"
     ]
    }
   ],
   "source": [
    "for city in graph_dict:\n",
    "    G = graph_dict[city]\n",
    "    components = list(nx.connected_components(G))\n",
    "    largest_component = max(components, key=len)\n",
    "    G_largest = G.subgraph(largest_component).copy()\n",
    "    print(f\"Análise de {city}:\")\n",
    "\n",
    "    print(f\"    1. Diâmetro do maior componente: {nx.diameter(G_largest)}\")\n",
    "    print(f\"    2. Distância média: {nx.average_shortest_path_length(G_largest):.2f}\")"
   ]
  },
  {
   "cell_type": "code",
   "execution_count": 46,
   "metadata": {},
   "outputs": [
    {
     "name": "stdout",
     "output_type": "stream",
     "text": [
      "Análise de Boa Vista:\n",
      "    1. Número de triângulos: 1116\n",
      "    2. Número de quadrados: 15\n",
      "Análise de Bauru:\n",
      "    1. Número de triângulos: 2010\n",
      "    2. Número de quadrados: 28\n",
      "Análise de Maringá:\n",
      "    1. Número de triângulos: 1026\n",
      "    2. Número de quadrados: 9\n",
      "Análise de Campina Grande:\n",
      "    1. Número de triângulos: 1839\n",
      "    2. Número de quadrados: 27\n"
     ]
    }
   ],
   "source": [
    "for city in graph_dict:\n",
    "    G = graph_dict[city]\n",
    "    print(f\"Análise de {city}:\")\n",
    "\n",
    "    n_triangles = count_triangles(G)\n",
    "    n_squares = count_squares(G)\n",
    "\n",
    "    print(f\"    1. Número de triângulos: {n_triangles}\")\n",
    "    print(f\"    2. Número de quadrados: {n_squares}\")"
   ]
  }
 ],
 "metadata": {
  "kernelspec": {
   "display_name": "Python 3.8.10 64-bit",
   "language": "python",
   "name": "python3"
  },
  "language_info": {
   "codemirror_mode": {
    "name": "ipython",
    "version": 3
   },
   "file_extension": ".py",
   "mimetype": "text/x-python",
   "name": "python",
   "nbconvert_exporter": "python",
   "pygments_lexer": "ipython3",
   "version": "3.8.10"
  },
  "orig_nbformat": 4,
  "vscode": {
   "interpreter": {
    "hash": "916dbcbb3f70747c44a77c7bcd40155683ae19c65e1c03b4aa3499c5328201f1"
   }
  }
 },
 "nbformat": 4,
 "nbformat_minor": 2
}
