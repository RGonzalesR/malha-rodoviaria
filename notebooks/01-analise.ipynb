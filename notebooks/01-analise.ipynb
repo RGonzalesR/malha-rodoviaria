{
 "cells": [
  {
   "cell_type": "code",
   "execution_count": 1,
   "metadata": {},
   "outputs": [],
   "source": [
    "import sys\n",
    "import os\n",
    "sys.path.append(os.path.abspath('..'))"
   ]
  },
  {
   "cell_type": "code",
   "execution_count": 7,
   "metadata": {},
   "outputs": [],
   "source": [
    "import networkx as nx\n",
    "import matplotlib.pyplot as plt\n",
    "import numpy as np\n",
    "\n",
    "from src.basic.load_network import load_mtx\n",
    "from src.metrics.search_information import average_search_information\n",
    "from src.metrics.loops import count_triangles, count_squares\n",
    "from src.plot.degree_distribution import plot_degree_distribution"
   ]
  },
  {
   "cell_type": "markdown",
   "metadata": {},
   "source": [
    "# Carga"
   ]
  },
  {
   "cell_type": "code",
   "execution_count": 5,
   "metadata": {},
   "outputs": [
    {
     "name": "stdout",
     "output_type": "stream",
     "text": [
      "Grafo carregado: 1174 nós e 1417 arestas. Densidade: 0.00206\n"
     ]
    }
   ],
   "source": [
    "filepath = \"../data/road-euroroad.mtx\"\n",
    "G = load_mtx(filepath)\n",
    "print(f\"Grafo carregado: {G.number_of_nodes()} nós e {G.number_of_edges()} arestas. Densidade: {nx.density(G):.5f}\")"
   ]
  },
  {
   "cell_type": "markdown",
   "metadata": {},
   "source": [
    "# Exploratória inicial"
   ]
  },
  {
   "cell_type": "code",
   "execution_count": 6,
   "metadata": {},
   "outputs": [
    {
     "name": "stdout",
     "output_type": "stream",
     "text": [
      "Número de componentes conexos: 26\n",
      "Tamanho do maior componente conexo: 1039 nós\n"
     ]
    }
   ],
   "source": [
    "components = list(nx.connected_components(G))\n",
    "largest_component = max(components, key=len)\n",
    "G_largest = G.subgraph(largest_component).copy()\n",
    "\n",
    "print(f\"Número de componentes conexos: {len(components)}\")\n",
    "print(f\"Tamanho do maior componente conexo: {G_largest.number_of_nodes()} nós\")"
   ]
  },
  {
   "cell_type": "code",
   "execution_count": 9,
   "metadata": {},
   "outputs": [
    {
     "name": "stdout",
     "output_type": "stream",
     "text": [
      "Grau mínimo: 1\n",
      "Grau máximo: 10\n",
      "Grau médio: 2.41\n",
      "Grau mediano: 2.0\n"
     ]
    },
    {
     "data": {
      "image/png": "[encoded data removed]",
      "text/plain": [
       "<Figure size 640x480 with 1 Axes>"
      ]
     },
     "metadata": {},
     "output_type": "display_data"
    }
   ],
   "source": [
    "degrees = [d for n, d in G.degree()]\n",
    "print(f\"Grau mínimo: {np.min(degrees)}\")\n",
    "print(f\"Grau máximo: {np.max(degrees)}\")\n",
    "print(f\"Grau médio: {np.mean(degrees):.2f}\")\n",
    "print(f\"Grau mediano: {np.median(degrees)}\")\n",
    "\n",
    "plot_degree_distribution(G)"
   ]
  },
  {
   "cell_type": "code",
   "execution_count": 10,
   "metadata": {},
   "outputs": [
    {
     "name": "stdout",
     "output_type": "stream",
     "text": [
      "Diâmetro do maior componente: 62\n",
      "Distância média: 18.40\n"
     ]
    }
   ],
   "source": [
    "print(f\"Diâmetro do maior componente: {nx.diameter(G_largest)}\")\n",
    "print(f\"Distância média: {nx.average_shortest_path_length(G_largest):.2f}\")"
   ]
  },
  {
   "cell_type": "code",
   "execution_count": 11,
   "metadata": {},
   "outputs": [
    {
     "name": "stdout",
     "output_type": "stream",
     "text": [
      "Coeficiente médio de clustering: 0.0167\n"
     ]
    }
   ],
   "source": [
    "print(f\"Coeficiente médio de clustering: {nx.average_clustering(G):.4f}\")"
   ]
  },
  {
   "cell_type": "code",
   "execution_count": 12,
   "metadata": {},
   "outputs": [
    {
     "name": "stdout",
     "output_type": "stream",
     "text": [
      "Número de triângulos: 96\n",
      "Número de quadrados: 3\n"
     ]
    }
   ],
   "source": [
    "n_triangles = count_triangles(G)\n",
    "n_squares = count_squares(G)\n",
    "\n",
    "print(f\"Número de triângulos: {n_triangles}\")\n",
    "print(f\"Número de quadrados: {n_squares}\")"
   ]
  },
  {
   "cell_type": "code",
   "execution_count": null,
   "metadata": {},
   "outputs": [],
   "source": []
  }
 ],
 "metadata": {
  "kernelspec": {
   "display_name": "Python 3.8.10 64-bit",
   "language": "python",
   "name": "python3"
  },
  "language_info": {
   "codemirror_mode": {
    "name": "ipython",
    "version": 3
   },
   "file_extension": ".py",
   "mimetype": "text/x-python",
   "name": "python",
   "nbconvert_exporter": "python",
   "pygments_lexer": "ipython3",
   "version": "3.8.10"
  },
  "orig_nbformat": 4,
  "vscode": {
   "interpreter": {
    "hash": "916dbcbb3f70747c44a77c7bcd40155683ae19c65e1c03b4aa3499c5328201f1"
   }
  }
 },
 "nbformat": 4,
 "nbformat_minor": 2
}
